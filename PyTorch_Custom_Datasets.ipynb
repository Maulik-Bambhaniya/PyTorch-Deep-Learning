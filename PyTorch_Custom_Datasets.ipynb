{
 "cells": [
  {
   "cell_type": "code",
   "execution_count": 1,
   "id": "c9c845d0-0d23-4dc4-8508-875a1bdbd274",
   "metadata": {},
   "outputs": [],
   "source": [
    "import torch \n",
    "from torch import nn\n"
   ]
  },
  {
   "cell_type": "code",
   "execution_count": 3,
   "id": "934b4cb7-eeb2-4048-a312-bc61f4b393bf",
   "metadata": {},
   "outputs": [
    {
     "data": {
      "text/plain": [
       "'cuda'"
      ]
     },
     "execution_count": 3,
     "metadata": {},
     "output_type": "execute_result"
    }
   ],
   "source": [
    "device = \"cuda\" if torch.cuda.is_available() else \"cpu\"\n",
    "device"
   ]
  },
  {
   "cell_type": "markdown",
   "id": "a4586b86-c0b6-4100-a27c-e375dcd83c0c",
   "metadata": {},
   "source": [
    "# Getting the Data"
   ]
  },
  {
   "cell_type": "code",
   "execution_count": 8,
   "id": "36cf6621-fc24-4132-9541-f2ec87098d38",
   "metadata": {},
   "outputs": [
    {
     "name": "stdout",
     "output_type": "stream",
     "text": [
      "data\\pizza_steak_sushi Directory already exists...skipping download\n",
      "Downlaoading the pizza, steak, sushi data...\n",
      "Unzipping the zip file...\n"
     ]
    }
   ],
   "source": [
    "import requests\n",
    "import zipfile\n",
    "from pathlib import Path\n",
    "\n",
    "data_path = Path(\"data/\")\n",
    "image_path = data_path / \"pizza_steak_sushi\"\n",
    "\n",
    "\n",
    "if image_path.is_dir():\n",
    "        print(f\"{image_path} Directory already exists...skipping download\")\n",
    "else:\n",
    "    print(f\"{image_path} does not exists, creating one...\")\n",
    "    image_path.mkdir(parents=True, exist_ok=True)\n",
    "#Download\n",
    "with open(data_path/ \"pizza_steak_sushi.zip\", \"wb\") as f:\n",
    "    request = requests.get(\"https://github.com/mrdbourke/pytorch-deep-learning/raw/main/data/pizza_steak_sushi.zip\")\n",
    "    print(\"Downlaoading the pizza, steak, sushi data...\")\n",
    "    f.write(request.content)\n",
    "\n",
    "with zipfile.ZipFile(data_path / \"pizza_steak_sushi.zip\", \"r\") as zip_ref:\n",
    "    print(\"Unzipping the zip file...\")\n",
    "    zip_ref.extractall(image_path)"
   ]
  },
  {
   "cell_type": "code",
   "execution_count": 10,
   "id": "ae05d5c3-2cc9-429f-9a8f-8cfa3376d7a9",
   "metadata": {},
   "outputs": [],
   "source": [
    "import os\n",
    "def walk_through_dir(dir_path):\n",
    "    for dirpath, dirnames, filenames in os.walk(dir_path):\n",
    "        print(f\"There are {len(dirnames)} directories and {len(filenames)} images in '{dirpath}'.\")"
   ]
  },
  {
   "cell_type": "code",
   "execution_count": 11,
   "id": "256bc701-0da2-4b39-a908-a31e1a46fde6",
   "metadata": {},
   "outputs": [
    {
     "name": "stdout",
     "output_type": "stream",
     "text": [
      "There are 2 directories and 0 images in 'data\\pizza_steak_sushi'.\n",
      "There are 3 directories and 0 images in 'data\\pizza_steak_sushi\\test'.\n",
      "There are 0 directories and 25 images in 'data\\pizza_steak_sushi\\test\\pizza'.\n",
      "There are 0 directories and 19 images in 'data\\pizza_steak_sushi\\test\\steak'.\n",
      "There are 0 directories and 31 images in 'data\\pizza_steak_sushi\\test\\sushi'.\n",
      "There are 3 directories and 0 images in 'data\\pizza_steak_sushi\\train'.\n",
      "There are 0 directories and 78 images in 'data\\pizza_steak_sushi\\train\\pizza'.\n",
      "There are 0 directories and 75 images in 'data\\pizza_steak_sushi\\train\\steak'.\n",
      "There are 0 directories and 72 images in 'data\\pizza_steak_sushi\\train\\sushi'.\n"
     ]
    }
   ],
   "source": [
    "walk_through_dir(image_path)"
   ]
  },
  {
   "cell_type": "code",
   "execution_count": 13,
   "id": "29a7a965-2798-486f-807d-1bf5ac98c125",
   "metadata": {},
   "outputs": [
    {
     "data": {
      "text/plain": [
       "(WindowsPath('data/pizza_steak_sushi/train'),\n",
       " WindowsPath('data/pizza_steak_sushi/test'))"
      ]
     },
     "execution_count": 13,
     "metadata": {},
     "output_type": "execute_result"
    }
   ],
   "source": [
    "train_dir = image_path / \"train\"\n",
    "test_dir = image_path / \"test\"\n",
    "\n",
    "train_dir, test_dir"
   ]
  },
  {
   "cell_type": "code",
   "execution_count": null,
   "id": "da4080ee-993f-49dd-8a66-17455c160c27",
   "metadata": {},
   "outputs": [],
   "source": []
  }
 ],
 "metadata": {
  "kernelspec": {
   "display_name": "Python 3 (ipykernel)",
   "language": "python",
   "name": "python3"
  },
  "language_info": {
   "codemirror_mode": {
    "name": "ipython",
    "version": 3
   },
   "file_extension": ".py",
   "mimetype": "text/x-python",
   "name": "python",
   "nbconvert_exporter": "python",
   "pygments_lexer": "ipython3",
   "version": "3.12.3"
  }
 },
 "nbformat": 4,
 "nbformat_minor": 5
}
